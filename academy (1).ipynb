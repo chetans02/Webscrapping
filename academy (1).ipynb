{
 "cells": [
  {
   "cell_type": "code",
   "execution_count": 1,
   "id": "4de16328",
   "metadata": {},
   "outputs": [
    {
     "name": "stdout",
     "output_type": "stream",
     "text": [
      "Category: cricket\n",
      "Category + City: cricket mumbai\n",
      "Page_no 1\n",
      "cat_url https://apiv1.9sportz.com/api/academy/filterdata?category=cricket&city=mumbai&country=IN&page=1\n",
      "Processing complete\n"
     ]
    }
   ],
   "source": [
    "import json\n",
    "import requests\n",
    "import pandas as pd\n",
    "import os\n",
    "\n",
    "# Columns for the CSV file\n",
    "columns = ['id', 'title', 'slug', 'country', 'address', 'cityid', 'verified',\n",
    "           'sessions', 'claimed', 'status', 'logo', 'review_avg', 'wstatus',\n",
    "           'phonestatus', 'categories', 'city.id', 'city.name', 'city.slug',\n",
    "           'city.country']\n",
    "\n",
    "# Check if the CSV file exists\n",
    "csv_path = 'academies.csv'\n",
    "\n",
    "if not os.path.exists(csv_path):\n",
    "    # Create DataFrame with no data\n",
    "    data = pd.DataFrame(columns=columns)\n",
    "    \n",
    "    # Write DataFrame to CSV file\n",
    "    data.to_csv(csv_path, index=False)\n",
    "\n",
    "\n",
    "category_list = ['cricket', 'football']\n",
    "city_list = ['mumbai', 'delhi', 'bangalore', 'hyderabad']\n",
    "\n",
    "\n",
    "for category in category_list:\n",
    "    print('Category:', category)\n",
    "    \n",
    "    for city in city_list:\n",
    "        print('Category + City:', category, city)\n",
    "        \n",
    "        for page_no in range(1, 4):\n",
    "            print('Page_no', page_no)\n",
    "            \n",
    "            cat_url = f'https://apiv1.9sportz.com/api/academy/filterdata?category={category}&city={city}&country=IN&page={page_no}'\n",
    "            print('cat_url', cat_url)\n",
    "      \n",
    "            # scraping\n",
    "            academies = requests.get(cat_url).json()\n",
    "        \n",
    "            academy_list = academies[\"data\"][\"academies\"]\n",
    "                        \n",
    "            # page number break logic\n",
    "            if not academy_list:\n",
    "                break\n",
    "                \n",
    "            df_academy = pd.json_normalize(academy_list)\n",
    "            \n",
    "            # write\n",
    "            df_academy.to_csv(csv_path, mode='a', index=False, header=False)\n",
    "            break\n",
    "            break\n",
    "        break\n",
    "    break\n",
    "    \n",
    "print('Processing complete')"
   ]
  },
  {
   "cell_type": "code",
   "execution_count": 11,
   "id": "c43d2350",
   "metadata": {},
   "outputs": [],
   "source": []
  },
  {
   "cell_type": "code",
   "execution_count": 20,
   "id": "15d943a2",
   "metadata": {},
   "outputs": [
    {
     "data": {
      "text/plain": [
       "Index(['id', 'title', 'slug', 'country', 'address', 'cityid', 'verified',\n",
       "       'sessions', 'claimed', 'status', 'logo', 'review_avg', 'wstatus',\n",
       "       'phonestatus', 'categories', 'city.id', 'city.name', 'city.slug',\n",
       "       'city.country'],\n",
       "      dtype='object')"
      ]
     },
     "execution_count": 20,
     "metadata": {},
     "output_type": "execute_result"
    }
   ],
   "source": [
    "df_academy.columns"
   ]
  },
  {
   "cell_type": "code",
   "execution_count": 19,
   "id": "2eee496a",
   "metadata": {},
   "outputs": [],
   "source": []
  },
  {
   "cell_type": "code",
   "execution_count": null,
   "id": "c88927c3",
   "metadata": {},
   "outputs": [],
   "source": []
  }
 ],
 "metadata": {
  "kernelspec": {
   "display_name": "Python 3 (ipykernel)",
   "language": "python",
   "name": "python3"
  },
  "language_info": {
   "codemirror_mode": {
    "name": "ipython",
    "version": 3
   },
   "file_extension": ".py",
   "mimetype": "text/x-python",
   "name": "python",
   "nbconvert_exporter": "python",
   "pygments_lexer": "ipython3",
   "version": "3.11.3"
  }
 },
 "nbformat": 4,
 "nbformat_minor": 5
}
